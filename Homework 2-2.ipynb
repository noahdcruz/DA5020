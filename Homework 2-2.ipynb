{
 "cells": [
  {
   "cell_type": "markdown",
   "id": "07f89799",
   "metadata": {},
   "source": [
    "# Homework 2\n",
    "\n",
    "Poisson and Probit regressions"
   ]
  },
  {
   "cell_type": "code",
   "execution_count": null,
   "id": "8ea3d133",
   "metadata": {
    "hide-output": false
   },
   "outputs": [],
   "source": [
    "%matplotlib inline\n",
    "import matplotlib.pyplot as plt\n",
    "plt.rcParams[\"figure.figsize\"] = (11, 5)  #set default figure size\n",
    "import numpy as np\n",
    "from numpy import exp\n",
    "from scipy.special import factorial\n",
    "import pandas as pd\n",
    "from mpl_toolkits.mplot3d import Axes3D\n",
    "from scipy import stats\n",
    "from scipy.stats import norm "
   ]
  },
  {
   "cell_type": "code",
   "execution_count": null,
   "id": "87960590",
   "metadata": {},
   "outputs": [],
   "source": [
    "import statsmodels.api as sm\n",
    "from statsmodels.api import Poisson\n",
    "from statsmodels.iolib.summary2 import summary_col"
   ]
  },
  {
   "cell_type": "code",
   "execution_count": null,
   "id": "cfdc7bae",
   "metadata": {},
   "outputs": [],
   "source": [
    "from sklearn.linear_model import PoissonRegressor"
   ]
  },
  {
   "cell_type": "markdown",
   "id": "c1b48412",
   "metadata": {},
   "source": [
    "(Use the GLM_Poisson_Probit file functioins `newton_raphson`)\n",
    "\n",
    "In the following function, the input model has two functions:  Hession Matrix H and Gradient G. "
   ]
  },
  {
   "cell_type": "code",
   "execution_count": null,
   "id": "047441aa",
   "metadata": {},
   "outputs": [],
   "source": [
    "def newton_raphson(model, tol=1e-5, max_iter=1000, display=True):\n",
    "\n",
    "    i = 0\n",
    "    error = 100  # Initial error value\n",
    "\n",
    "    # Print header of output\n",
    "    if display:\n",
    "        header = f'{\"Iteration_k\":<13}{\"Log-likelihood\":<16}{\"θ\":<60}'\n",
    "        print(header)\n",
    "        print(\"-\" * len(header))\n",
    "\n",
    "    # While loop runs while any value in error is greater\n",
    "    # than the tolerance until max iterations are reached\n",
    "    while np.any(error > tol) and i < max_iter:\n",
    "        H, G = model.H(), model.G()\n",
    "        β_new = model.β - (np.linalg.inv(H) @ G)\n",
    "        error = β_new - model.β\n",
    "        model.β = β_new\n",
    "\n",
    "        # Print iterations\n",
    "        if display:\n",
    "            β_list = [f'{t:.3}' for t in list(model.β.flatten())]\n",
    "            update = f'{i:<13}{model.logL():<16.8}{β_list}'\n",
    "            print(update)\n",
    "\n",
    "        i += 1\n",
    "\n",
    "    print(f'Number of iterations: {i}')\n",
    "    print(f'β_hat = {model.β.flatten()}')\n",
    "\n",
    "    # Return a flat array for β (instead of a k_by_1 column vector)\n",
    "    return model.β.flatten()\n"
   ]
  },
  {
   "cell_type": "markdown",
   "id": "7a69c0aa",
   "metadata": {},
   "source": [
    "## Questions"
   ]
  },
  {
   "cell_type": "markdown",
   "id": "b92e9f18",
   "metadata": {},
   "source": [
    "## Question 1\n",
    "\n",
    "Suppose we wanted to estimate the probability of an event $ y_i $\n",
    "occurring, given some observations.\n",
    "\n",
    "We could use a probit regression model, where the pmf of $ y_i $ is\n",
    "\n",
    "$$\n",
    "\\begin{aligned}\n",
    "f(y_i; \\boldsymbol{\\beta}) = \\mu_i^{y_i} (1-\\mu_i)^{1-y_i}, \\quad y_i = 0,1 \\\\\n",
    "\\text{where} \\quad \\mu_i = \\Phi(\\mathbf{x}_i' \\boldsymbol{\\beta})\n",
    "\\end{aligned}\n",
    "$$\n",
    "\n",
    "$ \\Phi $ represents the *cumulative normal distribution* and\n",
    "constrains the predicted $ y_i $ to be between 0 and 1 (as required\n",
    "for a probability).\n",
    "\n",
    "$ \\boldsymbol{\\beta} $ is a vector of coefficients.\n",
    "\n",
    "Find the log-likelihood function and derive the gradient and\n",
    "Hessian.\n",
    "\n",
    "The `scipy` module `stats.norm` contains the functions needed to\n",
    "compute the cmf and pmf of the normal distribution."
   ]
  },
  {
   "cell_type": "markdown",
   "id": "c113f22c",
   "metadata": {},
   "source": [
    "## Question 2\n",
    "\n",
    "Question(1): Use the following dataset and initial values of $ \\boldsymbol{\\beta} $ to\n",
    "estimate the MLE with the Newton-Raphson algorithm developed earlier in\n",
    "the example.\n",
    "\n",
    "$$\n",
    "\\mathbf{X} =\n",
    "\\begin{bmatrix}\n",
    "1 & 2 & 4 \\\\\n",
    "1 & 1 & 1 \\\\\n",
    "1 & 4 & 3 \\\\\n",
    "1 & 5 & 6 \\\\\n",
    "1 & 3 & 5\n",
    "\\end{bmatrix}\n",
    "\\quad\n",
    "y =\n",
    "\\begin{bmatrix}\n",
    "1 \\\\\n",
    "0 \\\\\n",
    "1 \\\\\n",
    "1 \\\\\n",
    "0\n",
    "\\end{bmatrix}\n",
    "\\quad\n",
    "\\boldsymbol{\\beta}_{(0)} =\n",
    "\\begin{bmatrix}\n",
    "0.1 \\\\\n",
    "0.1 \\\\\n",
    "0.1\n",
    "\\end{bmatrix}\n",
    "$$\n",
    "\n",
    "Question(2):Verify your results with `statsmodels` - you can import the Probit\n",
    "function with the following import statement"
   ]
  },
  {
   "cell_type": "code",
   "execution_count": null,
   "id": "561d7037",
   "metadata": {
    "hide-output": false
   },
   "outputs": [],
   "source": [
    "from statsmodels.discrete.discrete_model import Probit"
   ]
  },
  {
   "cell_type": "markdown",
   "id": "0734060d",
   "metadata": {},
   "source": [
    "Note that the simple Newton-Raphson algorithm developed in this lecture\n",
    "is very sensitive to initial values, and therefore you may fail to\n",
    "achieve convergence with different starting values."
   ]
  },
  {
   "cell_type": "markdown",
   "id": "2cf96735",
   "metadata": {},
   "source": [
    "## Question 3"
   ]
  },
  {
   "cell_type": "markdown",
   "id": "1e28f7fa",
   "metadata": {},
   "source": [
    "Generate data for Poisson regression as follows."
   ]
  },
  {
   "cell_type": "code",
   "execution_count": null,
   "id": "f0952c96",
   "metadata": {},
   "outputs": [],
   "source": [
    "np.random.seed(37)\n",
    "\n",
    "N = 1000\n",
    "x1 = np.random.normal(0, 1, N)\n",
    "x2 = np.random.normal(2, 1, N)\n",
    "y = np.round(np.exp(1 + 0.8 * x1 + 0.2 * x2 + np.random.normal(0, 1, N))).astype(int)\n",
    "\n",
    "df = pd.DataFrame({'x1': x1, 'x2': x2, 'y': y})\n",
    "df.head()"
   ]
  },
  {
   "cell_type": "code",
   "execution_count": null,
   "id": "01ffd4b9",
   "metadata": {},
   "outputs": [],
   "source": [
    "df.describe()"
   ]
  },
  {
   "cell_type": "code",
   "execution_count": null,
   "id": "4a6d9e59",
   "metadata": {},
   "outputs": [],
   "source": [
    "#Visualize y\n",
    "\n",
    "plt.style.use('ggplot')\n",
    "\n",
    "m = df['y'].mean()\n",
    "s = df['y'].value_counts().sort_index()\n",
    "ax = s.plot(kind='bar', figsize=(15, 3.5), title=rf'Distribution of $y$, $\\lambda={m:.1f}$')\n",
    "_ = ax.xaxis.set_major_locator(plt.MaxNLocator(50))"
   ]
  },
  {
   "cell_type": "markdown",
   "id": "5d1d1813",
   "metadata": {},
   "source": [
    "#### (1) From Scratch by Newton's method (Use the GLM_Poisson_Probit file functioins)"
   ]
  },
  {
   "cell_type": "code",
   "execution_count": null,
   "id": "39b5ae6b",
   "metadata": {},
   "outputs": [],
   "source": [
    "class PoissonRegression:\n",
    "\n",
    "    def __init__(self, y, X, β):\n",
    "        self.X = X\n",
    "        self.n, self.k = X.shape\n",
    "        # Reshape y as a n_by_1 column vector\n",
    "        self.y = y.reshape(self.n,1)\n",
    "        # Reshape β as a k_by_1 column vector\n",
    "        self.β = β.reshape(self.k,1)\n",
    "        \n",
    "## define μ as exponential of linear terms\n",
    "    def μ(self): \n",
    "        return  #Fill the code\n",
    "    \n",
    "## define log Likelihood function\n",
    "    def logL(self): \n",
    "        y = self.y\n",
    "        μ = self.μ()\n",
    "        return #Fill the code\n",
    "    \n",
    " ## Define the gradient function\n",
    "    def G(self):\n",
    "        X = self.X\n",
    "        y = self.y\n",
    "        μ = self.μ()\n",
    "        return #Fill the code\n",
    "    \n",
    " ## Define the Hessian matrix function\n",
    "    def H(self): ##\n",
    "        X = self.X\n",
    "        μ = self.μ()\n",
    "        return #Fill the code"
   ]
  },
  {
   "cell_type": "markdown",
   "id": "3a999df8",
   "metadata": {},
   "source": [
    "##### Data: "
   ]
  },
  {
   "cell_type": "code",
   "execution_count": null,
   "id": "3a422b81",
   "metadata": {},
   "outputs": [],
   "source": [
    "X = df[df.columns.drop('y')]\n",
    "y = df['y']\n",
    "Xc=sm.add_constant(X, prepend=True)\n",
    "\n",
    "# To numpy\n",
    "X_m=  ##fill the code\n",
    "y_m=  ##fill the code"
   ]
  },
  {
   "cell_type": "code",
   "execution_count": null,
   "id": "8d183bc9",
   "metadata": {},
   "outputs": [],
   "source": [
    "# Take a guess at initial βs\n",
    "init_β =  ##fill the code\n",
    "\n",
    "# Create an object with Poisson model values\n",
    "poi =  ##fill the code\n",
    "\n",
    "# Use newton_raphson to find the MLE\n",
    "β_hat =  ##fill the code"
   ]
  },
  {
   "cell_type": "code",
   "execution_count": null,
   "id": "c22cd200",
   "metadata": {},
   "outputs": [],
   "source": []
  },
  {
   "cell_type": "markdown",
   "id": "5d82e27d",
   "metadata": {},
   "source": [
    "#### (2) Verify your result by sklearn \n",
    "\n",
    "<span style='color:red'> NOT  </span> need to add constant column."
   ]
  },
  {
   "cell_type": "code",
   "execution_count": null,
   "id": "f0406aec",
   "metadata": {},
   "outputs": [],
   "source": [
    "model =  ##fill the code\n",
    "model.fit ##fill the code"
   ]
  },
  {
   "cell_type": "code",
   "execution_count": null,
   "id": "a8a1839e",
   "metadata": {},
   "outputs": [],
   "source": [
    "model.intercept_, model.coef_"
   ]
  },
  {
   "cell_type": "code",
   "execution_count": null,
   "id": "23172ec3",
   "metadata": {},
   "outputs": [],
   "source": [
    "model.score ##fill the code"
   ]
  },
  {
   "cell_type": "code",
   "execution_count": null,
   "id": "5a3557c6",
   "metadata": {},
   "outputs": [],
   "source": []
  },
  {
   "cell_type": "markdown",
   "id": "73e6b053",
   "metadata": {},
   "source": [
    "#### Verify your result by Statsmodel\n",
    "\n",
    "<span style='color:red'> Need to add constant column when we use Statsmodel lib. </span>"
   ]
  },
  {
   "cell_type": "code",
   "execution_count": null,
   "id": "7159b896",
   "metadata": {},
   "outputs": [],
   "source": [
    "Xc=sm.add_constant(X, prepend=True)"
   ]
  },
  {
   "cell_type": "code",
   "execution_count": null,
   "id": "53ebb80a",
   "metadata": {},
   "outputs": [],
   "source": [
    "mod_p = sm.Poisson ##fill the code\n",
    "res_p = mod_p.fit ##fill the code\n",
    "print(res_p.summary())"
   ]
  },
  {
   "cell_type": "code",
   "execution_count": null,
   "id": "c08d1330",
   "metadata": {},
   "outputs": [],
   "source": [
    " "
   ]
  },
  {
   "cell_type": "code",
   "execution_count": null,
   "id": "d5e66101",
   "metadata": {},
   "outputs": [],
   "source": []
  },
  {
   "cell_type": "code",
   "execution_count": null,
   "id": "f6a77fcf",
   "metadata": {},
   "outputs": [],
   "source": []
  },
  {
   "cell_type": "code",
   "execution_count": null,
   "id": "3ee7d6f7",
   "metadata": {},
   "outputs": [],
   "source": []
  }
 ],
 "metadata": {
  "date": 1673171198.3812559,
  "filename": "mle.md",
  "kernelspec": {
   "display_name": "Python 3 (ipykernel)",
   "language": "python",
   "name": "python3"
  },
  "language_info": {
   "codemirror_mode": {
    "name": "ipython",
    "version": 3
   },
   "file_extension": ".py",
   "mimetype": "text/x-python",
   "name": "python",
   "nbconvert_exporter": "python",
   "pygments_lexer": "ipython3",
   "version": "3.10.9"
  },
  "title": "Maximum Likelihood Estimation"
 },
 "nbformat": 4,
 "nbformat_minor": 5
}
